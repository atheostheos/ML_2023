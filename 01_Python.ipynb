{
  "nbformat": 4,
  "nbformat_minor": 0,
  "metadata": {
    "colab": {
      "provenance": [],
      "collapsed_sections": [
        "MoyXu0ZOoPKF",
        "TlzT5rqsoZUQ",
        "aB9a0BezkPeg",
        "dFbObKk8kalG",
        "GBz0ad09oA72",
        "wUgZX4_hpgt_",
        "wg7JhEWKqEsG",
        "Y9LTskx8rlsX",
        "pgry1ykSs5hQ",
        "tE38KomdtgDi",
        "hNOOmxGxti8R",
        "hjXZG-jctl3x",
        "ZYbhPoDPu-y1",
        "eNKH_LJU0hmM",
        "YLyS6Wl25iKx",
        "QkfF0rmW1Hrs",
        "V3IBb3YR9piq",
        "IViL1RI7-fVl",
        "4TCvlD1MBZo1",
        "9EzIEE2oW3g1",
        "aG9Hr8aaYh_O",
        "NUIl3wxpcU4H",
        "yaAWwxBHfe2T",
        "gXTvHJvT3hxT",
        "OoMtdv_YhDjG",
        "lNmvprsWc_gh",
        "sYGwMmiTdLoD",
        "qC80DZEqsV2l",
        "oI1BDDhRjJNb",
        "eOFbsSqPkGIJ",
        "M4GJmHJHxyf7",
        "QvSekWhw5H0o",
        "Yd3uV1E5D1DI",
        "uubcOSBKlquw",
        "eR7fe3pJEqc3",
        "asqJaR_i_hjr",
        "wp5XqMPkBZkX",
        "QF39mFZkiHUe",
        "g3M135bDvBw3",
        "Af3iIN5_-Pry",
        "vCZMw-FwANLM",
        "ka0AljGhBJVj",
        "Rf-RxCgCCpho",
        "DlwqbchLVbAq",
        "QAeFQpOjZj7k",
        "QlK7ybs3IRRN",
        "DOICEqYBipJs",
        "wBt6EwiCjcSq",
        "Qim2ii8qem2K",
        "DP-QRLN2nKyx"
      ],
      "include_colab_link": true
    },
    "kernelspec": {
      "name": "python3",
      "display_name": "Python 3"
    },
    "language_info": {
      "name": "python"
    }
  },
  "cells": [
    {
      "cell_type": "markdown",
      "metadata": {
        "id": "view-in-github",
        "colab_type": "text"
      },
      "source": [
        "<a href=\"https://colab.research.google.com/github/atheostheos/ML_2023/blob/main/01_Python.ipynb\" target=\"_parent\"><img src=\"https://colab.research.google.com/assets/colab-badge.svg\" alt=\"Open In Colab\"/></a>"
      ]
    },
    {
      "cell_type": "markdown",
      "source": [
        "# Домашние задания"
      ],
      "metadata": {
        "id": "DP-QRLN2nKyx"
      }
    },
    {
      "cell_type": "markdown",
      "source": [
        "## 1\n",
        "Напишите программу, которая получает на вход три целых числа, по одному числу в строке, и выводит на консоль в три строки сначала максимальное, потом минимальное, после чего оставшееся число.\n",
        "\n",
        "На ввод могут подаваться и повторяющиеся числа.\n",
        "```\n",
        "Пример:\n",
        "8\n",
        "2\n",
        "14\n",
        "Вывод:\n",
        "14\n",
        "2\n",
        "8\n",
        "Пример:\n",
        "23\n",
        "23\n",
        "21\n",
        "Вывод:\n",
        "23\n",
        "21\n",
        "23\n",
        "```"
      ],
      "metadata": {
        "id": "cilVPQrUoHBf"
      }
    },
    {
      "cell_type": "code",
      "source": [
        "arr = [int(input()) for i in range(3)]\n",
        "\n",
        "print(max(arr))\n",
        "print(min(arr))\n",
        "print(sorted(arr)[1])"
      ],
      "metadata": {
        "colab": {
          "base_uri": "https://localhost:8080/"
        },
        "id": "Po46QsFBcxSR",
        "outputId": "fab0457e-7813-412d-d476-0cadf8c352ce"
      },
      "execution_count": 1,
      "outputs": [
        {
          "output_type": "stream",
          "name": "stdout",
          "text": [
            "8\n",
            "2\n",
            "14\n",
            "14\n",
            "2\n",
            "8\n"
          ]
        }
      ]
    },
    {
      "cell_type": "markdown",
      "source": [
        "## 2\n",
        "Напишите программу, которая получает возраст человека (целое число, не превышающее 120) и выводит этот возраст со словом «год», «года» или «лет». Например, «21 год», «22 года», «25 лет».\n",
        "```\n",
        "Пример :\n",
        "Введите возраст: 18\n",
        "Вам 18 лет.\n",
        "Пример:\n",
        "Введите возраст: 21\n",
        "Вам 21 год.\n",
        "Пример:\n",
        "Введите возраст : 22\n",
        "Вам 22 года.\n",
        "```"
      ],
      "metadata": {
        "id": "j4vRRMZvoIvh"
      }
    },
    {
      "cell_type": "code",
      "source": [
        "year_types = {\n",
        "    \"год\": [1],\n",
        "    \"года\": [2, 3, 4],\n",
        "    \"лет\": [0, 5, 6, 7, 8, 9]\n",
        "}\n",
        "\n",
        "print(\"Введите возраст:\", end=\"\\r\")\n",
        "age = input()\n",
        "\n",
        "if age.isdigit() and int(age) > 0 and int(age) <= 120:\n",
        "  year_type = None\n",
        "  for year_key, digits in year_types.items():\n",
        "    if int(age[-1]) in digits:\n",
        "      year_type = year_key\n",
        "  print(f\"Вам {age} {year_type}.\")\n",
        "else:\n",
        "  print(\"Некорректный формат возраста\")"
      ],
      "metadata": {
        "colab": {
          "base_uri": "https://localhost:8080/"
        },
        "id": "-XuAtNP4exva",
        "outputId": "dcdfbbf1-91aa-4215-d397-5515035d6184"
      },
      "execution_count": 14,
      "outputs": [
        {
          "output_type": "stream",
          "name": "stdout",
          "text": [
            "Введите возраст:\r50\n",
            "Вам 50 лет.\n"
          ]
        }
      ]
    },
    {
      "cell_type": "markdown",
      "source": [
        "## 3\n",
        "Требуется определить, является ли данный год високосным.\n",
        "\n",
        "Напомним, что год является високосным, если его номер кратен 4, но не кратен 100, или если он кратен 400 (например, 2000-ый год являлся високосным, а 2100-ый будет невисокосным годом).\n",
        "\n",
        "Выведите \"Високосный\" в случае, если считанный год является високосным и \"Обычный\" в обратном случае.\n",
        "```\n",
        "Пример:\n",
        "2100\n",
        "Обычный\n",
        "Пример:\n",
        "2000\n",
        "Високосный\n",
        "```"
      ],
      "metadata": {
        "id": "H_ocGSPAoatO"
      }
    },
    {
      "cell_type": "code",
      "source": [
        "year = int(input())\n",
        "\n",
        "output = \"Високосный\" if (year % 4 == 0 and year % 100 != 0) or year % 400 == 0 else \"Обычный\"\n",
        "print(output)"
      ],
      "metadata": {
        "colab": {
          "base_uri": "https://localhost:8080/"
        },
        "id": "aWDSQBq2hsDC",
        "outputId": "3adb7b5b-f63c-4cc2-c42a-d1d558e655a4"
      },
      "execution_count": 19,
      "outputs": [
        {
          "output_type": "stream",
          "name": "stdout",
          "text": [
            "2100\n",
            "Обычный\n"
          ]
        }
      ]
    },
    {
      "cell_type": "markdown",
      "source": [
        "## 4\n",
        "Паша очень любит кататься на общественном транспорте, а получая билет, сразу проверяет, счастливый ли ему попался. Билет считается счастливым, если сумма первых трех цифр совпадает с суммой последних трех цифр номера билета.\n",
        "\n",
        "Однако Паша очень плохо считает в уме, поэтому попросил вас написать программу, которая проверит равенство сумм и выведет \"Счастливый\", если суммы совпадают, и \"Обычный\", если суммы различны.\n",
        "\n",
        "На вход программе подаётся строка из шести цифр.\n",
        "```\n",
        "Пример:\n",
        "090234\n",
        "Счастливый\n",
        "Пример  :\n",
        "123456\n",
        "Обычный\n",
        "```"
      ],
      "metadata": {
        "id": "697Ra6wTofV8"
      }
    },
    {
      "cell_type": "code",
      "source": [
        "n = input()\n",
        "\n",
        "left_half = int(n[0]) + int(n[1]) + int(n[2])\n",
        "right_half = int(n[3]) + int(n[4]) + int(n[5])\n",
        "\n",
        "print(\"Счастливый\" if left_half == right_half else \"Обычный\")"
      ],
      "metadata": {
        "colab": {
          "base_uri": "https://localhost:8080/"
        },
        "id": "SxsUCsigiV9_",
        "outputId": "d4da69a5-618b-4978-e718-c27fb76f973f"
      },
      "execution_count": 22,
      "outputs": [
        {
          "output_type": "stream",
          "name": "stdout",
          "text": [
            "090234\n",
            "Счастливый\n"
          ]
        }
      ]
    },
    {
      "cell_type": "markdown",
      "source": [
        "## 5\n",
        "Напишите программу, которая считывает со стандартного ввода целые числа, по одному числу в строке, и после первого введенного нуля выводит сумму полученных на вход чисел.\n",
        "```\n",
        "Пример:\n",
        "5\n",
        "-3\n",
        "8\n",
        "4\n",
        "0\n",
        "Вывод:\n",
        "14\n",
        "Пример:\n",
        "0\n",
        "Вывод:\n",
        "0\n",
        "```"
      ],
      "metadata": {
        "id": "luN4-Tq2okWg"
      }
    },
    {
      "cell_type": "code",
      "source": [
        "next = int(input())\n",
        "sum = next\n",
        "while next != 0:\n",
        "  next = int(input())\n",
        "  sum += next\n",
        "print(sum)"
      ],
      "metadata": {
        "colab": {
          "base_uri": "https://localhost:8080/"
        },
        "id": "mgkOq6ZAi2jM",
        "outputId": "6d0a6104-7ea6-46b0-ba7a-dbc59181497d"
      },
      "execution_count": 26,
      "outputs": [
        {
          "output_type": "stream",
          "name": "stdout",
          "text": [
            "5\n",
            "-3\n",
            "8\n",
            "4\n",
            "0\n",
            "14\n"
          ]
        }
      ]
    },
    {
      "cell_type": "markdown",
      "source": [
        "## 6\n",
        "Напишите простой калькулятор, который считывает с пользовательского ввода три строки: первое число, второе число и операцию, после чего применяет операцию к введённым числам (\"первое число\" \"операция\" \"второе число\") и выводит результат на экран.\n",
        "\n",
        "Поддерживаемые операции: +, -, /, *, mod, pow, div, где\n",
        "mod — это взятие остатка от деления,\n",
        "pow — возведение в степень,\n",
        "div — целочисленное деление.\n",
        "\n",
        "Если выполняется деление и второе число равно 0, необходимо выводить строку \"Деление на 0!\".\n",
        "\n",
        "Обратите внимание, что на вход программе приходят вещественные числа.\n",
        "```\n",
        "Пример::\n",
        "5.0\n",
        "0.0\n",
        "mod\n",
        "Деление на 0!\n",
        "Пример::\n",
        "-12.0\n",
        "-8.0\n",
        "*\n",
        "96.0\n",
        "Пример::\n",
        "5.0\n",
        "10.0\n",
        "/\n",
        "0.5\n",
        "```"
      ],
      "metadata": {
        "id": "ph9rOoZSs47g"
      }
    },
    {
      "cell_type": "code",
      "source": [
        "a = float(input())\n",
        "b = float(input())\n",
        "\n",
        "op = str(input())\n",
        "\n",
        "match op:\n",
        "  case \"+\":\n",
        "    print(a + b)\n",
        "  case \"-\":\n",
        "    print(a-b)\n",
        "  case \"*\":\n",
        "    print(a*b)\n",
        "  case \"/\":\n",
        "    if b != 0.0:\n",
        "      print(a/b)\n",
        "    else:\n",
        "      print(\"Деление на 0!\")\n",
        "  case \"mod\":\n",
        "    if b != 0.0:\n",
        "      print(a%b)\n",
        "    else:\n",
        "      print(\"Деление на 0!\")\n",
        "  case \"div\":\n",
        "    if b != 0.0:\n",
        "      print(a//b)\n",
        "    else:\n",
        "      print(\"Деление на 0!\")\n",
        "  case \"pow\":\n",
        "    print(a**b)\n",
        "  case _:\n",
        "    print(\"Несуществующий оператор\")"
      ],
      "metadata": {
        "colab": {
          "base_uri": "https://localhost:8080/"
        },
        "id": "E12mUL6gjmmc",
        "outputId": "e5dc8808-36aa-4745-c1b5-fd5759e6f684"
      },
      "execution_count": 27,
      "outputs": [
        {
          "output_type": "stream",
          "name": "stdout",
          "text": [
            "-12.0\n",
            "-8.0\n",
            "*\n",
            "96.0\n"
          ]
        }
      ]
    },
    {
      "cell_type": "markdown",
      "source": [
        "## 7\n",
        "Напишите программу, в которой рассчитывается сумма и произведение цифр положительного трёхзначного числа. На вход программе подаётся положительное трёхзначное число. Программа должна вывести два числа с поясняющим текстом: сумма цифр и произведение цифр.\n",
        "\n",
        "Пример:\n",
        "123\n",
        "\n",
        "Сумма цифр = 6\n",
        "Произведение цифр = 6"
      ],
      "metadata": {
        "id": "wqcEvJvOF1Mz"
      }
    },
    {
      "cell_type": "code",
      "source": [
        "n = input()\n",
        "print(f\"Сумма цифр = {int(n[0]) + int(n[1]) + int(n[2])}\")\n",
        "print(f\"Произведение цифр = {int(n[0]) * int(n[1]) * int(n[2])}\")"
      ],
      "metadata": {
        "colab": {
          "base_uri": "https://localhost:8080/"
        },
        "id": "T3tR8TAYj4_Q",
        "outputId": "868c4bd7-2a63-4b7a-acfc-ebcbc642596e"
      },
      "execution_count": 29,
      "outputs": [
        {
          "output_type": "stream",
          "name": "stdout",
          "text": [
            "123\n",
            "Сумма цифр = 6\n",
            "Произведение цифр = 6\n"
          ]
        }
      ]
    },
    {
      "cell_type": "markdown",
      "source": [
        "## 8\n",
        "Используя библиотеку datetime, узнать номер текущего месяца и вывести сообщение и названием текущего месяца.\n",
        "```\n",
        "Пример:\n",
        "2023.04.06\n",
        "\"Сейчас месяц апрель\"\n",
        "```"
      ],
      "metadata": {
        "id": "wmny3iOMIahW"
      }
    },
    {
      "cell_type": "code",
      "source": [
        "from datetime import datetime\n",
        "\n",
        "now = datetime.now()\n",
        "print(\"Current month is\", now.strftime(\"%B\"))"
      ],
      "metadata": {
        "colab": {
          "base_uri": "https://localhost:8080/"
        },
        "id": "qbrDzYibkXra",
        "outputId": "21c2407f-84bc-47db-ff12-4a29420e51e6"
      },
      "execution_count": 37,
      "outputs": [
        {
          "output_type": "stream",
          "name": "stdout",
          "text": [
            "Current month is November\n"
          ]
        }
      ]
    },
    {
      "cell_type": "markdown",
      "source": [
        "## 9\n",
        "Ввести с клавиатуры в одну строку фамилию, имя и отчество, разделив их пробелом. Вывести фамилию и инициалы.\n",
        "```\n",
        "Пример:\n",
        "Введите фамилию, имя и отчество: Иванов Петр Семёнович\n",
        "П.С. Иванов\n",
        "```"
      ],
      "metadata": {
        "id": "4UfTQETJKpC1"
      }
    },
    {
      "cell_type": "code",
      "source": [
        "s = input(\"Введите фамилию, имя и отчество: \")\n",
        "\n",
        "s_sp = s.split(' ')\n",
        "\n",
        "print(f\"{s_sp[1][0]}.{s_sp[2][0]}. {s_sp[0]}\")"
      ],
      "metadata": {
        "colab": {
          "base_uri": "https://localhost:8080/"
        },
        "id": "APdg_5GWlo0n",
        "outputId": "9e203de1-9fc7-4a3a-b9b4-5eeb658f81ee"
      },
      "execution_count": 44,
      "outputs": [
        {
          "output_type": "stream",
          "name": "stdout",
          "text": [
            "Введите фамилию, имя и отчество: Иванов Петр Семёнович\n",
            "П.С. Иванов\n"
          ]
        }
      ]
    },
    {
      "cell_type": "markdown",
      "source": [
        "## 10\n",
        "Задана строка с клавиатуры. Требуется определить, является ли она палиндромом. (Без создания новых переменных)\n",
        "Палиндром — это строка, которая читается одинаково, и спереди и сзади, например слово «Мадам»."
      ],
      "metadata": {
        "id": "Isxi-TEBL4WC"
      }
    },
    {
      "cell_type": "code",
      "source": [
        "p = input().lower()\n",
        "print(p == p[::-1])"
      ],
      "metadata": {
        "colab": {
          "base_uri": "https://localhost:8080/"
        },
        "id": "9OhKnDF_mnA4",
        "outputId": "6dd0cc26-904d-4cc0-a158-3294947f0341"
      },
      "execution_count": 47,
      "outputs": [
        {
          "output_type": "stream",
          "name": "stdout",
          "text": [
            "Мадам\n",
            "True\n"
          ]
        }
      ]
    },
    {
      "cell_type": "markdown",
      "source": [
        "## 11\n",
        "Заполните массив случайными числами в интервале [0,5]. Определить, есть ли в нем элементы с одинаковыми значениями, стоящие рядом.\n",
        "```\n",
        "Пример:\n",
        "Массив:\n",
        "1 2 3 3 2 1\n",
        "Есть: 3\n",
        "\n",
        "Пример:\n",
        "Массив:\n",
        "1 2 3 4 2 1\n",
        "Нет\n",
        "```"
      ],
      "metadata": {
        "id": "uliafZHoN1HY"
      }
    },
    {
      "cell_type": "code",
      "source": [
        "import random\n",
        "\n",
        "def find_pair(arr):\n",
        "  for i in range(1, len(arr)):\n",
        "    if arr[i-1] == arr[i]:\n",
        "      return arr[i]\n",
        "  return -1\n",
        "\n",
        "arr = [random.randint(0, 5) for i in range(6)]\n",
        "print(arr)\n",
        "res = find_pair(arr)\n",
        "print(f\"Есть: {res}\" if res > -1 else \"Нет\")\n"
      ],
      "metadata": {
        "colab": {
          "base_uri": "https://localhost:8080/"
        },
        "id": "sQIcHk-0m1kl",
        "outputId": "53bbac84-706b-4f51-bb03-e0b9f35e8073"
      },
      "execution_count": 70,
      "outputs": [
        {
          "output_type": "stream",
          "name": "stdout",
          "text": [
            "[4, 0, 3, 2, 2, 1]\n",
            "Есть: 2\n"
          ]
        }
      ]
    }
  ]
}